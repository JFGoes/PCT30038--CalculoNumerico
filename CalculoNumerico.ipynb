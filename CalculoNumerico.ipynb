{
  "nbformat": 4,
  "nbformat_minor": 0,
  "metadata": {
    "colab": {
      "name": "CalculoNumerico.ipynb",
      "provenance": [],
      "collapsed_sections": [],
      "toc_visible": true,
      "include_colab_link": true
    },
    "kernelspec": {
      "name": "python3",
      "display_name": "Python 3"
    }
  },
  "cells": [
    {
      "cell_type": "markdown",
      "metadata": {
        "id": "view-in-github",
        "colab_type": "text"
      },
      "source": [
        "<a href=\"https://colab.research.google.com/github/JFGoes/PCT30038--CalculoNumerico/blob/master/CalculoNumerico.ipynb\" target=\"_parent\"><img src=\"https://colab.research.google.com/assets/colab-badge.svg\" alt=\"Open In Colab\"/></a>"
      ]
    },
    {
      "cell_type": "markdown",
      "metadata": {
        "id": "xa3gE2EnHBbr",
        "colab_type": "text"
      },
      "source": [
        "# **Cálculo Numérico Empregando a Linguagem de Programação Python**\n",
        "\n",
        "Baseada no projeto reamat: [Calculo numerico em Python](https://www.ufrgs.br/reamat/CalculoNumerico/livro-py/main.html)\n",
        "\n",
        "#Organizadores\n",
        "\n",
        "## Professores:\n",
        "*   Josecley Fialho Góes - Instituto de Engenharia e Geociências (IEG)\n",
        "\n",
        "## Colaboradores:\n",
        "### Professores:\n",
        "\n",
        "*   Raimundo Augusto Rêgo Rodrigues Júnior - Instituto de Engenharia e Geociências (IEG)\n",
        "*   Marciana Lima Góes - Instituto de Ciências Educacionais (ICED)\n",
        "*   Claudir Oliveira - Instituto de Ciências Educacionais (ICED)\n",
        "\n",
        "### Alunos\n",
        "\n",
        "*  João Victor Rebelo"
      ]
    },
    {
      "cell_type": "markdown",
      "metadata": {
        "id": "rtRUvgaB7P00",
        "colab_type": "text"
      },
      "source": [
        "# **1 -- Introdução**\n",
        "\n",
        "Cálculo numérico é a disciplina que estuda as técnicas para a solução aproximada de problemas matemáticos. Estas técnicas são de natureza analítica e computacional. As principais preocupações normalmente envolvem exatidão e desempenho.\n",
        "Aliado ao aumento contínuo da capacidade de computação disponível, o desenvolvimento de métodos numéricos tornou a simulação computacional de problemas matemáticos uma prática usual nas mais diversas áreas científicas e tecnológicas. As então chamadas simulações numéricas são constituídas de um arranjo de vários esquemas numéricos dedicados a resolver problemas específicos como, por exemplo: resolver equações algébricas, resolver sistemas de equações lineares, interpolar e ajustar pontos, calcular derivadas e integrais, resolver equações diferenciais ordinárias etc. Neste livro, abordamos o desenvolvimento, a implementação, a utilização e os aspectos teóricos de métodos numéricos para a resolução desses problemas.\n",
        "Trabalharemos com problemas que abordam aspectos teóricos e de utilização dos métodos estudados, bem como com problemas de interesse na engenharia, na física e na matemática aplicada.\n",
        "A necessidade de aplicar aproximações numéricas decorre do fato de que esses problemas podem se mostrar intratáveis se dispomos apenas de meios puramente analíticos, como aqueles estudados nos cursos de cálculo e álgebra linear. Por exemplo, o teorema de Abel-Ruffini nos garante que não existe uma fórmula algébrica, isto é, envolvendo apenas operações aritméticas e radicais, para calcular as raízes de uma equação polinomial de qualquer grau, mas apenas casos particulares:\n",
        "\n",
        "* Simplesmente isolar a incógnita para encontrar a raiz de uma equação do primeiro grau;\n",
        "* Fórmula de Bhaskara para encontrar raízes de uma equação do segundo grau;\n",
        "* Fórmula de Cardano para encontrar raízes de uma equação do terceiro grau;\n",
        "* Existe expressão para equações de quarto grau;\n",
        "* Casos simplificados de equações de grau maior que 4 onde alguns coeficientes são nulos também podem ser resolvidos.\n",
        "\n",
        "Equações não polinomiais podem ser ainda mais complicadas de resolver exatamente, por exemplo:\n",
        "\n",
        "$$cos(x) = x \\qquad \\mbox{ou} \\qquad xe^{x} = 10$$\n",
        "\n",
        "Para resolver o problema de valor inicial:\n",
        "\n",
        "$$y'+ xy = x,$$\n",
        "$$y(0) = 2,$$\n",
        "\n",
        "\n",
        "podemos usar o método de fator integrante e obtemos $y = 1 + e^{-x^2/2}$. No entanto, não parece possível encontrar uma expressão fechada em termos de funções elementares para a solução exata do problema de valor inicial dado por\n",
        "$$y'+ xy = e^{-y},$$\n",
        "$$y(0) = 2,$$\n",
        "\n",
        "Da mesma forma, resolvemos a integral\n",
        "\n",
        "$$ \\int_{1}^{2} xe^{x^2} dx$$\n",
        "\n",
        "pelo método da substituição e obtemos $\\frac{1}{2}(e^{-1} + e^{-4})$.Porém a integral\n",
        "$$ \\int_{1}^{2} e^{x^2} dx$$\n",
        "não pode ser expressa analiticamente em termos de funções elementares, como uma consequência do teorema de Liouville.\n",
        "\n",
        "\n",
        "A maioria dos problemas envolvendo fenômenos reais produzem modelos matemáticos cuja solução analítica é difícil (ou impossível) de obter, mesmo quando provamos que a solução existe. Nesse curso propomos calcular aproximações numéricas para esses problemas, que apesar de, em geral, serem diferentes da solução exata, mostraremos que elas podem ser bem próximas.\n",
        "\n",
        "Para entender a construção de aproximações é necessário estudar como funciona a aritmética implementada nos computadores e erros de arredondamento. Como computadores, em geral, usam uma base binária para representar números, começaremos falando em mudança de base."
      ]
    },
    {
      "cell_type": "markdown",
      "metadata": {
        "id": "KjbQo1O161WF",
        "colab_type": "text"
      },
      "source": [
        "# **2 -- Representação de números e aritmética de máquina**"
      ]
    },
    {
      "cell_type": "markdown",
      "metadata": {
        "id": "gUXQc7RC66fn",
        "colab_type": "text"
      },
      "source": [
        "Neste capítulo, abordaremos formas de representar números reais em computadores. Iniciamos com uma discussão sobre representação posicional e mudança de base. Então, enfatizaremos a representação de números com quantidade finita de dígitos, mais especificamente, as representações de números inteiros, ponto fixo e ponto flutuante em computadores.\n",
        "A representação de números e a aritmética em computadores levam aos chamados erros de arredondamento e de truncamento. Ao final deste capítulo, abordaremos os efeitos do erro de arredondamento na computação científica.\n",
        "Ao longo do capítulo, faremos alguns comentários usando códigos em Python 2.7. Nestes, assumiremos que os seguintes módulos estão carregados:"
      ]
    },
    {
      "cell_type": "code",
      "metadata": {
        "id": "d611CHkP-hLy",
        "colab_type": "code",
        "colab": {}
      },
      "source": [
        "import numpy as np"
      ],
      "execution_count": 0,
      "outputs": []
    },
    {
      "cell_type": "markdown",
      "metadata": {
        "id": "zPUfC6Oh-lhb",
        "colab_type": "text"
      },
      "source": [
        "A primeira instrução garante que divisões de números inteiros sejam computadas em ponto flutuante (double) e a segunda carrega a biblioteca de computação científica [numpy](https://numpy.org/)."
      ]
    },
    {
      "cell_type": "code",
      "metadata": {
        "id": "sOzSqa6N-rJ3",
        "colab_type": "code",
        "colab": {}
      },
      "source": [
        ""
      ],
      "execution_count": 0,
      "outputs": []
    }
  ]
}