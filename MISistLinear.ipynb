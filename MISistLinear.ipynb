{
  "nbformat": 4,
  "nbformat_minor": 0,
  "metadata": {
    "colab": {
      "provenance": [],
      "mount_file_id": "1WgVE6NapFvTz2UxTXEx_aAq6s5KGBmij",
      "authorship_tag": "ABX9TyNimqlcO5ECy8Otb3fyXgjT",
      "include_colab_link": true
    },
    "kernelspec": {
      "name": "python3",
      "display_name": "Python 3"
    },
    "language_info": {
      "name": "python"
    }
  },
  "cells": [
    {
      "cell_type": "markdown",
      "metadata": {
        "id": "view-in-github",
        "colab_type": "text"
      },
      "source": [
        "<a href=\"https://colab.research.google.com/github/JFGoes/PCT30038--CalculoNumerico/blob/master/MISistLinear.ipynb\" target=\"_parent\"><img src=\"https://colab.research.google.com/assets/colab-badge.svg\" alt=\"Open In Colab\"/></a>"
      ]
    },
    {
      "cell_type": "code",
      "execution_count": 1,
      "metadata": {
        "id": "dGWnDA21jB41"
      },
      "outputs": [],
      "source": [
        "\"\"\"\n",
        "Métodos iterativos para sistema lineares:\n",
        "1 - Método de Jacobi\n",
        "2 - Método de Gauss-Seidel\n",
        "\n",
        "Autor: Prof. Josecley Fialho Góes\n",
        "Data da última alteração: 02/12/2022\n",
        "\"\"\"\n",
        "\n",
        "import numpy as np\n",
        "import matplotlib.pyplot as plt\n"
      ]
    },
    {
      "cell_type": "code",
      "source": [
        "# Método de Jacobi\n",
        "def jacobi(A,b,x0,tol,maxiter): \n",
        "  \"\"\"\n",
        "  Método de Jacobi\n",
        "  Implementado a partir do livro de Cálculo Numéricos.\n",
        "  autores: Marcia Aparecida Gomes Ruggiero\n",
        "            Vera Lúcia da Rocha Lopes\n",
        "  Edição: 2ª\n",
        "\n",
        "  Variáveis de entrada:\n",
        "  A           -- Matriz de coeficientes\n",
        "  b           -- Vetor Independente\n",
        "  x           -- Vetor chute inicial\n",
        "  tol         -- Tolerância do erro\n",
        "  maxiter     -- iteração máxima\n",
        "\n",
        "  variáveis de Saída:\n",
        "  sol         -- Vetor solução\n",
        "  solx        -- Vetor solução por iteração\n",
        "  iter        -- Qtde de iterações\n",
        "  \"\"\"\n",
        "  # Melhorar a precisão de float para double\n",
        "  A = A.astype('double')  \n",
        "  b = b.astype('double')  \n",
        "  x0 = x0.astype('double')  \n",
        "  # retorna a quantidade de variáveis\n",
        "  # cria um vetor para salvar a solução\n",
        "  n=np.shape(A)[0]  \n",
        "  x = np.zeros(n)  \n",
        "  # Para o plot das raizes x iterações\n",
        "  solx = []\n",
        "  # Create List of list\n",
        "  for i in range(n+1):\n",
        "    solx.append([])\n",
        "  for j in range(n):\n",
        "    solx[j].append(x0[j])\n",
        "  #iteracoes\n",
        "  iter = 0  \n",
        "  solx[n].append(iter)\n",
        "  while (iter < maxiter):            \n",
        "    #iteracao de Jacobi  \n",
        "    for i in np.arange(n):  \n",
        "      x[i] = b[i]  \n",
        "      for j in np.concatenate((np.arange(0,i),np.arange(i+1,n))):  \n",
        "        x[i] -= A[i,j]*x0[j]  #somatorio de A_ij * x0_j\n",
        "      x[i] /= A[i,i]  #divisão  de bi menos somatório de A_ij * x0_j por a_ii\n",
        "        \n",
        "         \n",
        "    iter = iter+1\n",
        "    for i in range(n):\n",
        "      solx[i].append(x[i])\n",
        "    solx[n].append(iter)\n",
        "    #tolerancia  \n",
        "    if (np.linalg.norm(x-x0,np.inf) < tol):  \n",
        "      print(f'Iterações = {iter}')\n",
        "      print(f'Solução: {[\"%.4f\"% xi for xi in x]}')\n",
        "      for i in range(n):\n",
        "        plt.plot(solx[n],solx[i],label='x'+str(i+1))\n",
        "      plt.xlabel('Iter')\n",
        "      plt.ylabel('sol')\n",
        "      plt.legend()\n",
        "      plt.grid()\n",
        "      return (x ,solx, iter)\n",
        "    #prepara nova iteracao  \n",
        "    x0 = np.copy(x) \n",
        "  raise NameError('num. max. de iteracoes excedido.')"
      ],
      "metadata": {
        "id": "ipGn9QH5YHep"
      },
      "execution_count": 2,
      "outputs": []
    },
    {
      "cell_type": "code",
      "source": [
        "# Método de Gauss-Seidel\n",
        "def GSeidel(A,b,x,imax,es,rlambda):\n",
        "  \"\"\"\n",
        "  Método de Gaus-Seidel com relaxamento: xi_novo = λxi_novo + (1 − λ)xi_velho\n",
        "  Implementado a partir do livro de Métodos Numéricos para engenharia, pag 255.\n",
        "  autores: Steven C. Chapra e Raymond P. Canale\n",
        "  Edição: 5ª\n",
        "\n",
        "  Variáveis de entrada:\n",
        "  A           -- Matriz de coeficientes\n",
        "  b           -- Vetor Independente\n",
        "  x           -- Vetor chute inicial\n",
        "  imax        -- iteração máxima\n",
        "  es          -- Tolerância do erro\n",
        "  rlambda     -- variável de relaxamento\n",
        "\n",
        "  variáveis de Saída:\n",
        "  sol         -- Vetor solução\n",
        "  solx        -- Vetor solução por iteração\n",
        "  iter        -- Qtde de iterações\n",
        "  \"\"\"\n",
        "  # Melhorar a precisão de float para double\n",
        "  A = A.astype('double') \n",
        "  b = b.astype('double')  \n",
        "  x = x.astype('double') \n",
        "  # retorna a quantidade de variáveis\n",
        "  n=np.shape(A)[0]\n",
        "  solx = []\n",
        "  # Create List of list\n",
        "  for i in range(n+1):\n",
        "    solx.append([])\n",
        "  for j in range(n):\n",
        "      solx[j].append(x[j])\n",
        "   \n",
        "\n",
        "  for i in range(n):\n",
        "    dummy = A[i][i]\n",
        "    for j in range(n):\n",
        "      A[i][j]= A[i][j]/dummy\n",
        "\n",
        "    b[i]= b[i]/dummy\n",
        "  \n",
        "  for i in range(n):\n",
        "    soma = b[i]\n",
        "    for j in np.concatenate((np.arange(0,i),np.arange(i+1,n))):\n",
        "      soma = soma - A[i][j]*x[j]\n",
        "    x[i] = soma\n",
        "    \n",
        "  iter = 0\n",
        "  solx[n].append(iter)\n",
        "\n",
        "  while True:\n",
        "    sentinela = 1\n",
        "    for i in range(n):\n",
        "      old = x[i]\n",
        "      soma = b[i]\n",
        "      for j in np.concatenate((np.arange(0,i),np.arange(i+1,n))):\n",
        "        soma = soma - A[i][j]*x[j]\n",
        "      x[i] = rlambda * soma  + (1. - rlambda) * old\n",
        "      \n",
        "      if sentinela == 1 and x[i] != 0.:\n",
        "        ea = np.fabs((x[i] - old)/x[i])*100\n",
        "        \n",
        "        if ea > es:\n",
        "          sentinela = 0\n",
        "    iter = iter + 1\n",
        "    for i in range(n):\n",
        "      solx[i].append(x[i])    \n",
        "    solx[n].append(iter)\n",
        "    if sentinela == 1 or iter >= imax:\n",
        "      print(f'Iterações = {iter}')\n",
        "      print(f'Solução: {[\"%.4f\"% xi for xi in x]}')\n",
        "      #print(solx)\n",
        "      for i in range(n):\n",
        "        plt.plot(solx[n],solx[i],label='x'+str(i+1))\n",
        "      plt.xlabel('Iter')\n",
        "      plt.ylabel('sol')\n",
        "      plt.legend()\n",
        "      plt.grid()\n",
        "\n",
        "      return (x ,solx, iter)"
      ],
      "metadata": {
        "id": "MHmfCof8jE6G"
      },
      "execution_count": 3,
      "outputs": []
    },
    {
      "cell_type": "markdown",
      "source": [
        "# Funções testes para os dois métodos"
      ],
      "metadata": {
        "id": "RPrSbFW_Y24R"
      }
    },
    {
      "cell_type": "code",
      "source": [
        "if __name__ == '__main__':\n",
        "  print(\"1 - Gauss-Seidel\\n2 - Jacobi\")\n",
        "  metodo = int(input(\"Qual método? (1 ou 2 ): \"))\n",
        "\n",
        "  if metodo == 1:\n",
        "    print(\"\"\"Método de Gaus Seidel - Exemplo: \n",
        "       9 x1 − 2 x2 +  3 x3 +  2 x4 = 54,5\n",
        "       2 x1 + 8 x2 −  2 x3 +  3 x4 = −14\n",
        "      −3 x1 + 2 x2 + 11 x3 −  4 x4 = 12\n",
        "      −2 x1 + 3 x2 +  2 x3 + 10 x4 = −21\n",
        "      \"\"\")\n",
        "    \n",
        "    A = np.array([[9.0,-2.0,3.0,2.0],[2.0,8.0,-2.0,3.0],[-3.0,2.0,11.0,-4.0],[-2.0,3.0,2.0,10.0]])\n",
        "    b = np.array([54.5,-14.0,12.5,-21.0])\n",
        "    x = np.array([0.,0.,0.,0.])\n",
        "    rlambda = 1\n",
        "    es = 0.0001\n",
        "    sol,solx,iter = GSeidel(A,b,x,100,es,rlambda)\n",
        "  elif metodo == 2:\n",
        "    print(\"\"\"Método de Jacobi - Exemplo: \n",
        "       9 x1 − 2 x2 +  3 x3 +  2 x4 = 54,5\n",
        "       2 x1 + 8 x2 −  2 x3 +  3 x4 = −14\n",
        "      −3 x1 + 2 x2 + 11 x3 −  4 x4 = 12\n",
        "      −2 x1 + 3 x2 +  2 x3 + 10 x4 = −21\n",
        "      \"\"\")\n",
        "    A = np.array([[9.0,-2.0,3.0,2.0],[2.0,8.0,-2.0,3.0],[-3.0,2.0,11.0,-4.0],[-2.0,3.0,2.0,10.0]])\n",
        "    b = np.array([54.5,-14.0,12.5,-21.0])\n",
        "    x = np.array([0.,0.,0.,0.])\n",
        "    tol = 0.001\n",
        "    sol,solx,iter = jacobi(A,b,x,tol,100)\n"
      ],
      "metadata": {
        "id": "ZKLjBS3djLcg",
        "colab": {
          "base_uri": "https://localhost:8080/",
          "height": 473
        },
        "outputId": "661d8dfd-e18e-4aba-d9f2-3fa311e1a30b"
      },
      "execution_count": 5,
      "outputs": [
        {
          "output_type": "stream",
          "name": "stdout",
          "text": [
            "1 - Gauss-Seidel\n",
            "2 - Jacobi\n",
            "Qual método? (1 ou 2 ): 2\n",
            "Método de Jacobi - Exemplo: \n",
            "       9 x1 − 2 x2 +  3 x3 +  2 x4 = 54,5\n",
            "       2 x1 + 8 x2 −  2 x3 +  3 x4 = −14\n",
            "      −3 x1 + 2 x2 + 11 x3 −  4 x4 = 12\n",
            "      −2 x1 + 3 x2 +  2 x3 + 10 x4 = −21\n",
            "      \n",
            "Iterações = 14\n",
            "Solução: ['4.9995', '-1.9998', '2.5001', '-1.0002']\n"
          ]
        },
        {
          "output_type": "display_data",
          "data": {
            "text/plain": [
              "<Figure size 432x288 with 1 Axes>"
            ],
            "image/png": "[encoded data removed]"
          },
          "metadata": {
            "needs_background": "light"
          }
        }
      ]
    }
  ]
}