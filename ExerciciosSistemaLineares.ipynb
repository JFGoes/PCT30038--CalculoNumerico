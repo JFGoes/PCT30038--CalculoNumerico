{
  "nbformat": 4,
  "nbformat_minor": 0,
  "metadata": {
    "colab": {
      "provenance": [],
      "authorship_tag": "ABX9TyMD2qgJkDVMvWPFZOR8b3xD",
      "include_colab_link": true
    },
    "kernelspec": {
      "name": "python3",
      "display_name": "Python 3"
    },
    "language_info": {
      "name": "python"
    }
  },
  "cells": [
    {
      "cell_type": "markdown",
      "metadata": {
        "id": "view-in-github",
        "colab_type": "text"
      },
      "source": [
        "<a href=\"https://colab.research.google.com/github/JFGoes/PCT30038--CalculoNumerico/blob/master/ExerciciosSistemaLineares.ipynb\" target=\"_parent\"><img src=\"https://colab.research.google.com/assets/colab-badge.svg\" alt=\"Open In Colab\"/></a>"
      ]
    },
    {
      "cell_type": "markdown",
      "source": [
        "# Lista II - Sistema  Lineares\n",
        "\n",
        "Professor: Josecley Fialho Góes\n"
      ],
      "metadata": {
        "id": "AcINsLYZRBVp"
      }
    },
    {
      "cell_type": "markdown",
      "source": [
        "## 1 - Resolva os sistemas abaixo, usando o método de Jacobi com precisão $ϵ =  10^{−2}$ ou no máximo 10 iterações. Verifique se o critério das linhas é satisfeito.\n",
        "$\n",
        "\\left\\{\n",
        "\\begin{aligned}\n",
        "    4x_1 + x_2 + x_3 + x_4     &= 7\\\\\n",
        "    2x_1 -8 x_2 + x_3 - x_4     &= -6\\\\\n",
        "    x_1 +2 x_2 -5 x_3 + x_4     &= -1\\\\\n",
        "    x_1 + x_2 + x_3 -4 x_4     &= -1\n",
        "\\end{aligned}\n",
        "\\right. \\qquad\\mbox{use} \\quad x^0 = \\begin{bmatrix} 0\\\\0\\\\0\\\\0 \\end{bmatrix}\n",
        "$"
      ],
      "metadata": {
        "id": "GHkfxwtWRNx_"
      }
    },
    {
      "cell_type": "code",
      "execution_count": null,
      "metadata": {
        "id": "b6hU6BVmIRTV"
      },
      "outputs": [],
      "source": []
    },
    {
      "cell_type": "markdown",
      "source": [
        "## 2 - Use o método de Gauss-Seidel  para resolver o seguinte sistema com tolerância de $ϵ = 5\\%$. Se necessário, reorganize as equações para garantir a convergência. \n",
        "\n",
        "$\n",
        "\\left\\{\n",
        "\\begin{aligned}\n",
        "    2x_1 -6 x_2  - x_3     &= -38\\\\\n",
        "    -3x_1 - x_2 + 7x_3   &= -34\\\\\n",
        "    -8x_1 + x_2 -2 x_3    &= -20   \n",
        "\\end{aligned}\n",
        "\\right.\n",
        "$\n"
      ],
      "metadata": {
        "id": "HtlXrIhzTOYK"
      }
    },
    {
      "cell_type": "code",
      "source": [],
      "metadata": {
        "id": "qPm0IZ1mVeM9"
      },
      "execution_count": null,
      "outputs": []
    },
    {
      "cell_type": "markdown",
      "source": [
        "## 3 - Considere o seguinte sistema linear:\n",
        "\n",
        "$\\begin{bmatrix}\n",
        "-4 & 1 & 1\\\\\n",
        "-5 &6 &−2\\\\\n",
        "−1 &−1 &3\n",
        "\\end{bmatrix}\n",
        "\\begin{bmatrix}\n",
        "x_1\\\\\n",
        "x_2\\\\\n",
        "x_3\n",
        "\\end{bmatrix} =\\begin{bmatrix}\n",
        "-2\\\\\n",
        "-1\\\\\n",
        "1\n",
        "\\end{bmatrix}\n",
        "$\n",
        "\n"
      ],
      "metadata": {
        "id": "Oby1yaYMXt1e"
      }
    },
    {
      "cell_type": "markdown",
      "source": [
        "### a) O método de Gauss-Seidel  é convergente para este sistema? Justifique;"
      ],
      "metadata": {
        "id": "AZPyvmURYi-m"
      }
    },
    {
      "cell_type": "code",
      "source": [],
      "metadata": {
        "id": "y6ft4LgAYiUr"
      },
      "execution_count": null,
      "outputs": []
    },
    {
      "cell_type": "markdown",
      "source": [
        "### b) Faça duas iterações do método de Gauss-Seidel partindo da aproximação inicial $x^{(0)}_1 = 0$, $x^{(0)}_2 = 0$, $x^{(0)}_3 = 0$.  Trabalhe com 2 algarismos significativos;"
      ],
      "metadata": {
        "id": "92-3OOUAYqPS"
      }
    },
    {
      "cell_type": "code",
      "source": [],
      "metadata": {
        "id": "1xTdvHhSZOjr"
      },
      "execution_count": null,
      "outputs": []
    },
    {
      "cell_type": "markdown",
      "source": [
        "### c) Sabendo que a solução do sistema está no cubo $[−3, 3] × [−3, 3] × [−3, 3]$, estime um numero de iterações do método de Gauss-Seidel (se tal número existir) que assegure encontrar esta solução com precisão $10^{−10}$, partindo da origem como aproximação inicial."
      ],
      "metadata": {
        "id": "olqNpGSqZa8J"
      }
    },
    {
      "cell_type": "code",
      "source": [],
      "metadata": {
        "id": "qfAVEq6XZxlc"
      },
      "execution_count": null,
      "outputs": []
    },
    {
      "cell_type": "markdown",
      "source": [
        "### d) Faça duas iterações do método de Jacobi, partindo da mesma aproximação inicial. Trabalhe com 3 algarismos significativos;"
      ],
      "metadata": {
        "id": "EYYp8faTZw1-"
      }
    },
    {
      "cell_type": "code",
      "source": [],
      "metadata": {
        "id": "xU5RTYtFZwXP"
      },
      "execution_count": null,
      "outputs": []
    },
    {
      "cell_type": "markdown",
      "source": [
        "### e) Qual a melhor aproximação entre (b) e (d)? Justifique."
      ],
      "metadata": {
        "id": "LZxnsUMyaFLY"
      }
    },
    {
      "cell_type": "code",
      "source": [],
      "metadata": {
        "id": "cAGh9s2baIv5"
      },
      "execution_count": null,
      "outputs": []
    },
    {
      "cell_type": "markdown",
      "source": [
        "## 4 - Resolva os sistemas abaixo, usando o método de  Gauss-Seidel  com precisão $ϵ =  10^{−4}$.\n",
        "$\n",
        "\\left\\{\n",
        "\\begin{aligned}\n",
        "    4x_1 + x_2 + x_3 + x_4     &= 7\\\\\n",
        "    2x_1 -8 x_2 + x_3 - x_4     &= -6\\\\\n",
        "    x_1 +2 x_2 -5 x_3 + x_4     &= -1\\\\\n",
        "    x_1 + x_2 + x_3 -4 x_4     &= -1\n",
        "\\end{aligned}\n",
        "\\right. \\qquad\\mbox{use} \\quad x^0 = \\begin{bmatrix} 3\\\\1\\\\0\\\\-1 \\end{bmatrix}\n",
        "$"
      ],
      "metadata": {
        "id": "-sUf5Hp9aM2n"
      }
    },
    {
      "cell_type": "code",
      "source": [],
      "metadata": {
        "id": "QdWRTe0kbtB5"
      },
      "execution_count": null,
      "outputs": []
    },
    {
      "cell_type": "markdown",
      "source": [
        "## 5 - Considere o sistema linear, cuja matriz de coeficientes é a matriz esparsa\n",
        "\n",
        "$A = \\begin{bmatrix}\n",
        "1 & 1 & -1 & 2 & -1\\\\\n",
        "2 & 0 & 0 & 0 & 0\\\\\n",
        "0 & 2 & 0 & 0 & 0\\\\\n",
        "4 & 0 & 0 & 16 & 0\\\\\n",
        "0 & 0 & 4 & 0 & 0\n",
        "\\end{bmatrix} \\qquad \\mbox{e} \\qquad B = \\begin{bmatrix}\n",
        "2\\\\\n",
        "2\\\\\n",
        "2\\\\\n",
        "20\\\\\n",
        "4\n",
        "\\end{bmatrix}\n",
        "$\n",
        "\n",
        "Aplique o método de Gauss-Seidel ao sistema. Comente o seu desempenho."
      ],
      "metadata": {
        "id": "9S2MgFEedj-k"
      }
    },
    {
      "cell_type": "code",
      "source": [],
      "metadata": {
        "id": "brETa4xEemcc"
      },
      "execution_count": null,
      "outputs": []
    }
  ]
}