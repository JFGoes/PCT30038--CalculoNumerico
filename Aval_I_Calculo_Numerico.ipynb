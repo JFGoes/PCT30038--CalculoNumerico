{
  "nbformat": 4,
  "nbformat_minor": 0,
  "metadata": {
    "colab": {
      "provenance": [],
      "authorship_tag": "ABX9TyMr8+kVefaKKn3uZrDAQE1X",
      "include_colab_link": true
    },
    "kernelspec": {
      "name": "python3",
      "display_name": "Python 3"
    },
    "language_info": {
      "name": "python"
    }
  },
  "cells": [
    {
      "cell_type": "markdown",
      "metadata": {
        "id": "view-in-github",
        "colab_type": "text"
      },
      "source": [
        "<a href=\"https://colab.research.google.com/github/JFGoes/PCT30038--CalculoNumerico/blob/master/Aval_I_Calculo_Numerico.ipynb\" target=\"_parent\"><img src=\"https://colab.research.google.com/assets/colab-badge.svg\" alt=\"Open In Colab\"/></a>"
      ]
    },
    {
      "cell_type": "markdown",
      "source": [
        "<center> \n",
        "\n",
        "# Avaliação I - Cálculo Numérico\n",
        "</center>"
      ],
      "metadata": {
        "id": "S7Ji6TZoD34B"
      }
    },
    {
      "cell_type": "markdown",
      "source": [
        "Professor: Josecley Fialho Góes\n"
      ],
      "metadata": {
        "id": "9KbOZ95yEBAJ"
      }
    },
    {
      "cell_type": "markdown",
      "source": [
        "Aluno: \n",
        "\n",
        "---\n",
        "\n",
        "\n"
      ],
      "metadata": {
        "id": "gE4zrBmBEHbQ"
      }
    },
    {
      "cell_type": "markdown",
      "source": [
        "# 1 - Seja o sistema linear\n",
        "$\n",
        "\\left\\{\n",
        "\\begin{aligned}\n",
        "    10x_1 + x_2 - x_3 &= 10\\\\\n",
        "    2x_1 + 10 x_2 + 8x_3   &= 20\\\\\n",
        "    7x_1 + x_2 + 10x_3  &= 30\n",
        "\\end{aligned}\n",
        "\\right.\n",
        "$"
      ],
      "metadata": {
        "id": "nCl3BCcREXP6"
      }
    },
    {
      "cell_type": "markdown",
      "source": [
        "#a) É possível dizer se o Método de Jacobi é convergente para esse sistema, usando o critério das linhas?"
      ],
      "metadata": {
        "id": "RkpbM9bVVytt"
      }
    },
    {
      "cell_type": "code",
      "source": [],
      "metadata": {
        "id": "UQmDYCG8EWR6"
      },
      "execution_count": null,
      "outputs": []
    },
    {
      "cell_type": "markdown",
      "source": [
        "# b) E possível dizer se o Método de Gauss-Seidel  ́e convergente para esse sistema, usandoo critério de Sassenfeld?"
      ],
      "metadata": {
        "id": "5k1FzMDhV_Hw"
      }
    },
    {
      "cell_type": "code",
      "source": [],
      "metadata": {
        "id": "C3CUPT-KD_It"
      },
      "execution_count": null,
      "outputs": []
    },
    {
      "cell_type": "markdown",
      "source": [
        "# c) Resolver o sistema utilizando o Método de Gauss-Seidel com $x0 = (0.7, −1.6, 0.6)$ e $ϵ = 10^{-2}$"
      ],
      "metadata": {
        "id": "q_40hEdqXTe7"
      }
    },
    {
      "cell_type": "code",
      "source": [],
      "metadata": {
        "id": "jIffQkAHXNAp"
      },
      "execution_count": null,
      "outputs": []
    },
    {
      "cell_type": "markdown",
      "source": [
        "# 2 - Seja o sistema linear\n",
        "\n",
        "$\n",
        "\\left\\{\n",
        "\\begin{aligned}\n",
        "    x_1 + 3x_2 - x_3 &= -2\\\\\n",
        "    5x_1 + 2 x_2 + 2x_3   &= 3\\\\\n",
        "     6 x_2 + 8x_3  &= -6\n",
        "\\end{aligned}\n",
        "\\right.\n",
        "$"
      ],
      "metadata": {
        "id": "t1Oz5BsBXld8"
      }
    },
    {
      "cell_type": "markdown",
      "source": [
        "# a) E possível dizer se o Método de Jacobi é convergente para esse sistema, usando o critério das linhas?"
      ],
      "metadata": {
        "id": "9CNgr1CvYEbb"
      }
    },
    {
      "cell_type": "code",
      "source": [],
      "metadata": {
        "id": "5HfHm97aYD3A"
      },
      "execution_count": null,
      "outputs": []
    },
    {
      "cell_type": "markdown",
      "source": [
        "# b) Mostre que a aplicação do Método de Jacobi sobre o sistema equivalente obtido pela permutação das duas  primeiras equações, gera uma sequência convergente. Resolva este sistema utilizando o Método de Jacobi com $x_0 = (3/5, −2/3, −3/4)$ e $ϵ = 10−3$."
      ],
      "metadata": {
        "id": "fOM84ZilYOGp"
      }
    },
    {
      "cell_type": "code",
      "source": [],
      "metadata": {
        "id": "4Z59NWxkYmPt"
      },
      "execution_count": null,
      "outputs": []
    },
    {
      "cell_type": "markdown",
      "source": [
        "# 3 - Determine um intervalo (a, b), de tal forma que $∀x_0 ∈ (a, b)$ a função de iteração gere uma sequência convergente para a(s) raiz(es) de cada uma das funções abaixo, usando os método iterativo Bissecção, Newton e Secante com tolerância $ϵ = 10^{-6} $."
      ],
      "metadata": {
        "id": "S3E9qnCxY4lY"
      }
    },
    {
      "cell_type": "markdown",
      "source": [
        "# a) $f(x) = \\sqrt(x) - e^{-x}$"
      ],
      "metadata": {
        "id": "8ZgDNPoiZkq5"
      }
    },
    {
      "cell_type": "code",
      "source": [],
      "metadata": {
        "id": "k64Yvd06ZXZx"
      },
      "execution_count": null,
      "outputs": []
    },
    {
      "cell_type": "markdown",
      "source": [
        "# b) $f(x) = e^{-x/2} - x^3$"
      ],
      "metadata": {
        "id": "WhNHkIWIZv7t"
      }
    },
    {
      "cell_type": "code",
      "source": [],
      "metadata": {
        "id": "wiZ11oJnZ-Yp"
      },
      "execution_count": null,
      "outputs": []
    },
    {
      "cell_type": "markdown",
      "source": [
        "# c) $f(x) = sen(x) - x^2$"
      ],
      "metadata": {
        "id": "fGtk38k2Z--n"
      }
    },
    {
      "cell_type": "code",
      "source": [],
      "metadata": {
        "id": "WGouPk7EaI9X"
      },
      "execution_count": null,
      "outputs": []
    },
    {
      "cell_type": "markdown",
      "source": [
        "# d) Em cada um dos casos, compare e comente os resultados."
      ],
      "metadata": {
        "id": "Fce47nCpaLe6"
      }
    },
    {
      "cell_type": "code",
      "source": [],
      "metadata": {
        "id": "i1BKqpH2aTMQ"
      },
      "execution_count": null,
      "outputs": []
    }
  ]
}