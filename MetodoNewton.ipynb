{
  "nbformat": 4,
  "nbformat_minor": 0,
  "metadata": {
    "colab": {
      "provenance": [],
      "collapsed_sections": [],
      "authorship_tag": "ABX9TyM46r9et6RhdmDTnMCbV1le",
      "include_colab_link": true
    },
    "kernelspec": {
      "name": "python3",
      "display_name": "Python 3"
    },
    "language_info": {
      "name": "python"
    }
  },
  "cells": [
    {
      "cell_type": "markdown",
      "metadata": {
        "id": "view-in-github",
        "colab_type": "text"
      },
      "source": [
        "<a href=\"https://colab.research.google.com/github/JFGoes/PCT30038--CalculoNumerico/blob/master/MetodoNewton.ipynb\" target=\"_parent\"><img src=\"https://colab.research.google.com/assets/colab-badge.svg\" alt=\"Open In Colab\"/></a>"
      ]
    },
    {
      "cell_type": "markdown",
      "source": [
        "# Método de Newton"
      ],
      "metadata": {
        "id": "JgWVjoDjv08Z"
      }
    },
    {
      "cell_type": "code",
      "execution_count": null,
      "metadata": {
        "id": "cHgcS3-kt6Ak"
      },
      "outputs": [],
      "source": [
        "from sympy.plotting import *\n",
        "import sympy as sp\n",
        "from math import log, ceil"
      ]
    },
    {
      "cell_type": "code",
      "source": [
        "x = sp.Symbol('x')#Define uma variável"
      ],
      "metadata": {
        "id": "ehKprcrvuE3m"
      },
      "execution_count": null,
      "outputs": []
    },
    {
      "cell_type": "code",
      "source": [
        "#funcao = x**4 - 2 * x**3 - 4 * x**2+ 4*x + 4\n",
        "funcao = x**3 - 9*x + 3"
      ],
      "metadata": {
        "id": "_ObPlqpoua5S"
      },
      "execution_count": null,
      "outputs": []
    },
    {
      "cell_type": "code",
      "source": [
        "sp.diff(funcao, x)"
      ],
      "metadata": {
        "colab": {
          "base_uri": "https://localhost:8080/",
          "height": 38
        },
        "id": "ugNTh9eXGHpA",
        "outputId": "ca26b94a-7dba-4cad-c37d-5f792322c878"
      },
      "execution_count": null,
      "outputs": [
        {
          "output_type": "execute_result",
          "data": {
            "text/plain": [
              "3*x**2 - 9"
            ],
            "text/latex": "$\\displaystyle 3 x^{2} - 9$"
          },
          "metadata": {},
          "execution_count": 4
        }
      ]
    },
    {
      "cell_type": "code",
      "source": [
        "plot(funcao,(x,-2,2))"
      ],
      "metadata": {
        "colab": {
          "base_uri": "https://localhost:8080/",
          "height": 315
        },
        "id": "PrQndcJtuwAv",
        "outputId": "0d7893ac-a9c0-436f-f496-93f3a5772655"
      },
      "execution_count": null,
      "outputs": [
        {
          "output_type": "display_data",
          "data": {
            "text/plain": [
              "<Figure size 432x288 with 1 Axes>"
            ],
            "image/png": "[encoded data removed]"
          },
          "metadata": {
            "needs_background": "light"
          }
        },
        {
          "output_type": "execute_result",
          "data": {
            "text/plain": [
              "<sympy.plotting.plot.Plot at 0x7fb4ecc49ed0>"
            ]
          },
          "metadata": {},
          "execution_count": 5
        }
      ]
    },
    {
      "cell_type": "markdown",
      "source": [
        "Definição da função para obter as raizes, $f(x) = 0$:"
      ],
      "metadata": {
        "id": "BTrLtst7ws3k"
      }
    },
    {
      "cell_type": "code",
      "source": [
        "def f(x):\n",
        "  #return x**4 - 2 * x**3 - 4 * x**2+ 4*x + 4\n",
        "  return (x**3 - 9*x + 3)"
      ],
      "metadata": {
        "id": "-SDU3-8lu2im"
      },
      "execution_count": null,
      "outputs": []
    },
    {
      "cell_type": "markdown",
      "source": [
        "Definição da função derivada da $f(x)$:"
      ],
      "metadata": {
        "id": "4FoI7kPlYVx3"
      }
    },
    {
      "cell_type": "code",
      "source": [
        "def df(x):\n",
        "  #return (4*x**3-6*x**2-8*x + 4)\n",
        "  return (3*x**2 - 9)"
      ],
      "metadata": {
        "id": "fnLUtTalCIlw"
      },
      "execution_count": null,
      "outputs": []
    },
    {
      "cell_type": "markdown",
      "source": [
        "Método de Newton-Raphson implementado a partir do algoritmo do livro cálculo numérico - Rugiere"
      ],
      "metadata": {
        "id": "C7h2GI90w1YA"
      }
    },
    {
      "cell_type": "code",
      "source": [
        "def newton(x0,tol,iter_max):\n",
        "  iter = 1\n",
        "  \n",
        "  if abs(f(x0)) < tol:\n",
        "     return (f'A raiz esperar é: {x0:.6f}')\n",
        "\n",
        "  print(f'{\"iter\":^5}| {\"x1\":^9}| {\"x0\":^9}| {\"f(x1)\":^8} | {\"|x1-x0|\":^9} ')\n",
        "  print('-----|----------|----------|----------|----------|-----------')\n",
        "  \n",
        "  while iter < iter_max:\n",
        "    x1 = x0 - f(x0)/df(x0)\n",
        "\n",
        "    print(f'{iter:^5}| {x1:^9.6f}| {x0:^9.6f}| {f(x1):^8.4f} | {abs(x1-x0):^2.4E}')\n",
        "\n",
        "    if abs(f(x1)) < tol or abs((x1-x0)) < tol:\n",
        "      return (f'A raiz esperar é: {x1:.6f}')\n",
        "    else:\n",
        "      x0 = x1\n",
        "\n",
        "    iter+=1\n",
        "  return 'O método não convergiu após '+ str(iter_max) + 'iterações'"
      ],
      "metadata": {
        "id": "HYVfJuN2vB50"
      },
      "execution_count": null,
      "outputs": []
    },
    {
      "cell_type": "code",
      "source": [
        "\n",
        "#Raiz no intervalo [0,0.5]\n",
        "x0 = 0.5\n",
        "err = 10**(-4)\n",
        "newton(x0,err,100)"
      ],
      "metadata": {
        "colab": {
          "base_uri": "https://localhost:8080/",
          "height": 107
        },
        "id": "mDoiltqvwwQA",
        "outputId": "348c6e83-a25d-4c77-8307-61e28652eab0"
      },
      "execution_count": null,
      "outputs": [
        {
          "output_type": "stream",
          "name": "stdout",
          "text": [
            "iter |    x1    |    x0    |  f(x1)   |  |x1-x0|  \n",
            "-----|----------|----------|----------|----------|-----------\n",
            "  1  | 0.333333 | 0.500000 |  0.0370  | 1.6667E-01\n",
            "  2  | 0.337607 | 0.333333 |  0.0000  | 4.2735E-03\n"
          ]
        },
        {
          "output_type": "execute_result",
          "data": {
            "text/plain": [
              "'A raiz esperar é: 0.337607'"
            ],
            "application/vnd.google.colaboratory.intrinsic+json": {
              "type": "string"
            }
          },
          "metadata": {},
          "execution_count": 14
        }
      ]
    },
    {
      "cell_type": "code",
      "source": [],
      "metadata": {
        "id": "9hejm_2xw8qN"
      },
      "execution_count": null,
      "outputs": []
    }
  ]
}