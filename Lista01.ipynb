{
  "nbformat": 4,
  "nbformat_minor": 0,
  "metadata": {
    "colab": {
      "provenance": [],
      "authorship_tag": "ABX9TyMQaLGvF1zGd0yPJJeqJ1L5",
      "include_colab_link": true
    },
    "kernelspec": {
      "name": "python3",
      "display_name": "Python 3"
    },
    "language_info": {
      "name": "python"
    }
  },
  "cells": [
    {
      "cell_type": "markdown",
      "metadata": {
        "id": "view-in-github",
        "colab_type": "text"
      },
      "source": [
        "<a href=\"https://colab.research.google.com/github/JFGoes/PCT30038--CalculoNumerico/blob/master/Lista01.ipynb\" target=\"_parent\"><img src=\"https://colab.research.google.com/assets/colab-badge.svg\" alt=\"Open In Colab\"/></a>"
      ]
    },
    {
      "cell_type": "markdown",
      "source": [
        "# Obtenção dos zeros das funções"
      ],
      "metadata": {
        "id": "ai4GXcmkN_fQ"
      }
    },
    {
      "cell_type": "markdown",
      "source": [
        "### 1) Pesquise a existência de raízes das funções a seguir e se houver raízes, encontre o intervalo onde estas estão isoladas usando o gráfico:\n",
        "\n",
        "  a) $f(x) = cossec(x) - tg(x)$"
      ],
      "metadata": {
        "id": "aQAaETPlOIn1"
      }
    },
    {
      "cell_type": "code",
      "execution_count": null,
      "metadata": {
        "id": "bzW06Nw-N9Bm"
      },
      "outputs": [],
      "source": []
    },
    {
      "cell_type": "markdown",
      "source": [
        "  b) $f(x) = e^{-x} - ln(x)$"
      ],
      "metadata": {
        "id": "uxKC7du9Ooj4"
      }
    },
    {
      "cell_type": "code",
      "source": [],
      "metadata": {
        "id": "FIZRTtJoN-5t"
      },
      "execution_count": null,
      "outputs": []
    },
    {
      "cell_type": "markdown",
      "source": [
        "### 2) Dada a função $f(x) = ln(x) - tgh(x)$, determine um intervalo que contenha uma única raiz positiva $\\alpha$ de $f(x)$. Para este intervalo, calcule o número de iterações necessárias para obter uma aproximação para a raiz com precisão $tol = 10^{-4}$."
      ],
      "metadata": {
        "id": "_nNIvzpdPEGw"
      }
    },
    {
      "cell_type": "code",
      "source": [],
      "metadata": {
        "id": "pTGUKdrQPqOs"
      },
      "execution_count": null,
      "outputs": []
    },
    {
      "cell_type": "markdown",
      "source": [
        "### 3) Aplique o Método da Bissecção para encontrar uma aproximação para a raiz negativa da função $f(x) = x^3 - 5x + 0.1$. Considere o critério de parada dado por $\\left|\\dfrac{b-a}{a}\\right|< tol$ com $tol = 10^{-2}$. Faça primeiro o isolamento da raiz no intervalo."
      ],
      "metadata": {
        "id": "bc8kNVgTPrdZ"
      }
    },
    {
      "cell_type": "code",
      "source": [],
      "metadata": {
        "id": "tw2edfRNQxsq"
      },
      "execution_count": null,
      "outputs": []
    },
    {
      "cell_type": "markdown",
      "source": [
        "### 4) Considere $f(x) = cos(x) - cos(3,1x)$. Esta função muda de sinal no intervalo $[-1,8]$.Possui portanto, mais de uma raiz no intervalo. Suponha que você queira encontrar a menor raiz positiva. Faça um esboço do gráfico de $cos(x)$ e $cos(3,1x)$ e determine  um intervalo com amplitude de $0,1$ e aplique o Método da Bissecção para uma precisão de $tol = 10^{-4}$. "
      ],
      "metadata": {
        "id": "84QW0GXNQzKf"
      }
    },
    {
      "cell_type": "code",
      "source": [],
      "metadata": {
        "id": "pAw0uptkR2_i"
      },
      "execution_count": null,
      "outputs": []
    },
    {
      "cell_type": "markdown",
      "source": [
        "### 5) Utilize manipulações algébricas para mostrar que cada uma das funções a seguir tem um ponto fixo em $x$ para $f(x)=x^4 + 2x^2 - x - 3=0$. Além disso, encontre uma raiz para cada $\\phi(x)$ abaixo, usando o método de ponto fixo.\n",
        "  a) $\\phi(x) = \\left( \\dfrac{x + 3 - x^4}{2}\\right)^{1/2}$"
      ],
      "metadata": {
        "id": "zfKeDPVNSJpk"
      }
    },
    {
      "cell_type": "code",
      "source": [],
      "metadata": {
        "id": "GKd8BgZ2TKq7"
      },
      "execution_count": null,
      "outputs": []
    },
    {
      "cell_type": "markdown",
      "source": [
        "  b) $\\phi(x) = \\dfrac{x + 3}{x^3 + 2x}$"
      ],
      "metadata": {
        "id": "JgUfjsztTLY7"
      }
    },
    {
      "cell_type": "code",
      "source": [],
      "metadata": {
        "id": "BZpSXII0Tqry"
      },
      "execution_count": null,
      "outputs": []
    },
    {
      "cell_type": "markdown",
      "source": [
        "### 6) Utilize o método do ponto fixo para determinar uma aproximação para  $\\sqrt[3]{25}$ com precisão de $tol  = 10^{-4}$. Para tanto:\n",
        "\n",
        "  a) Encontre uma função $f(x)$ para efetuar os cálculos;\n",
        "\n",
        "  b) Mostre através de manipulações algébricas que $\\phi(x) = \\dfrac{5}{\\sqrt{x}}$ é uma função de ponto fixo para a $f(x)$ encontrada;\n",
        "\n",
        "  c) Isole a raiz no intervalo $[a,b]$ tal que $a,b \\in Z$;\n",
        "\n",
        "  d) Verifique as hipóteses do Teorema 2 para certificar-se que esta função faz com que o método convirja dentro do intervalo $[a,b]$.\n",
        "\n",
        "  e) Escolha convenientimento $x_0$."
      ],
      "metadata": {
        "id": "uS8O3pD4TrGD"
      }
    },
    {
      "cell_type": "code",
      "source": [],
      "metadata": {
        "id": "GGFZllTZVg_m"
      },
      "execution_count": null,
      "outputs": []
    },
    {
      "cell_type": "markdown",
      "source": [
        "### 7) Seja $f(x) = (x-2)^2 - ln(x)$. Isole as raízes desta função usando o método gráfico. Escolha um $x_0$ adequado e aplique o método de Newton para encontrar a menor raiz, tal que a tolerância seja calculada a partir da fórmula $|x_{n+1} - x_n| \\leq 10^{-10}$."
      ],
      "metadata": {
        "id": "b_ABqK3iViC1"
      }
    },
    {
      "cell_type": "code",
      "source": [],
      "metadata": {
        "id": "zoNnOvgQWlBF"
      },
      "execution_count": null,
      "outputs": []
    },
    {
      "cell_type": "markdown",
      "source": [
        "### 8) O polinômio $p(x) = 230 x^4 + 18x^3 + 9x^2-22x -9$ tem duas raízes reais. Uma no intervalo $[-1,0]$ e a outra em $[0,1]$. Encontre o valor aproximado do zero negativo com uma precisão de $10^{-6}$ utilizando:\n",
        "\n",
        "  a) Método da Bissecção:"
      ],
      "metadata": {
        "id": "Kc__fMeSXszR"
      }
    },
    {
      "cell_type": "code",
      "source": [],
      "metadata": {
        "id": "BWPVPjO4YZiv"
      },
      "execution_count": null,
      "outputs": []
    },
    {
      "cell_type": "markdown",
      "source": [
        "  b) Método de Newton"
      ],
      "metadata": {
        "id": "5dsHziqUYaS1"
      }
    },
    {
      "cell_type": "code",
      "source": [],
      "metadata": {
        "id": "a3NrcuK5YctB"
      },
      "execution_count": null,
      "outputs": []
    },
    {
      "cell_type": "markdown",
      "source": [
        "c) Método da Secante"
      ],
      "metadata": {
        "id": "F3w6RRZtgk2I"
      }
    },
    {
      "cell_type": "code",
      "source": [],
      "metadata": {
        "id": "Ulsb_Hk4grbW"
      },
      "execution_count": null,
      "outputs": []
    },
    {
      "cell_type": "markdown",
      "source": [
        "  d) Compare o número de iterações dos dois métodos e o resultado obtido."
      ],
      "metadata": {
        "id": "DN7Sqab8Ygif"
      }
    },
    {
      "cell_type": "code",
      "source": [],
      "metadata": {
        "id": "qHigpZAQYsnD"
      },
      "execution_count": null,
      "outputs": []
    },
    {
      "cell_type": "markdown",
      "source": [],
      "metadata": {
        "id": "xW2jzF2Vs1to"
      }
    },
    {
      "cell_type": "markdown",
      "source": [
        "### 9) O Engenheiro recém formado João Pedro Guimarães projetou um reservatório de água forma de semi-esfera de raio $4m$ que será utilizada em um prédio e cometeu um erro no cálculo: o volume de água possível nesse reservatório é bem maior que $50m^3$, estabelecido como limite. Dessa forma, é preciso determinar o nível $h$ máximo que a água pode atingir nesse recepiente para não ultrapassar o limite de volume estabelecido. Determine o valor de $h$ com erro inferior a $10^{-3}$ usando o Método de Newton-Raphson. A fórmula que cálcula o volume com os dados exibidos na figura é: $V = \\dfrac{\\pi}{3} h^2 (3R-h)$.\n",
        "<center>\n",
        "<img src=\"https://www.algosobre.com.br/images/stories/matematica/esfera00.png\">\n",
        "</center>"
      ],
      "metadata": {
        "id": "cOGNAI1uAT91"
      }
    },
    {
      "cell_type": "code",
      "source": [],
      "metadata": {
        "id": "p8QCzktPDnPL"
      },
      "execution_count": null,
      "outputs": []
    },
    {
      "cell_type": "markdown",
      "source": [
        "### 10)  Um estudante comprou um notebook no valor de $R\\$2499,00$ e vai pagar 12 parcelas de $R\\$249,00$. A matemática finaceira estabelece que \n",
        "$$P = \\dfrac{F ⋅i}{1-(1+i)^{-n}},$$\n",
        "### onde $F$ é o valor finaciado, $P$ é o valor da parcela, $n$ é o número de parcelas e $i$ é a taxa de juros. Qual a taxa de juros do financiamento? Encontre-a usando os métodos da bissecção, Newton e Secante, comparando-os.\n"
      ],
      "metadata": {
        "id": "6IkWBi9eEqOr"
      }
    },
    {
      "cell_type": "code",
      "source": [],
      "metadata": {
        "id": "3bimnmNyYj_i"
      },
      "execution_count": null,
      "outputs": []
    },
    {
      "cell_type": "markdown",
      "source": [
        "### 11) Em termodinâmica, sob determinadas condições, a relação entre o calor $Q$ fornecido a um gás e sua variação de temperatura $T_f-T_i$, é dada por \n",
        "$$Q = nR\\left[ A(T_f - T_i) + \\dfrac{B}{2}(T_f^2 - T_i^2) \\dfrac{C}{3}(T_f^3 - T_i^3)]\\right].$$\n",
        "### Para o gás metano, $R = 8,314 \\ J/mol\\cdot K$, $A = 1,702$, $B = 9,081 \\times 10^{-3}K^{-1}$, $C = -2,164 \\times 10^{-6} K^{-2}$. Em uma câmara, tem-se $n=2 \\ mol$ de metano a temperatura $T_1 = 300 \\ K$. Qual será a temperatura final $T_f$ se $20 \\ kJ$ de energia é absorvido pelo gás? Use pelo menos dois métodos e compare-os, fazendo a análise dos resultados quanto a quantidade de iterações e soluções."
      ],
      "metadata": {
        "id": "XAv5KnpH5RUl"
      }
    },
    {
      "cell_type": "code",
      "source": [],
      "metadata": {
        "id": "emKttJEE8yL2"
      },
      "execution_count": null,
      "outputs": []
    },
    {
      "cell_type": "markdown",
      "source": [
        "###12) Na Álgebra Linear, os autovalores $\\lambda$ de uma matriz $A$ são definidos como os zeros do polinômio característico\n",
        "$$p_A(x) = det(A -Ix).$$\n",
        "### Considere a matriz\n",
        "\n",
        "\\begin{equation*}\n",
        "A = \n",
        "\\begin{bmatrix}\n",
        "-3 & 0 & -3 \\\\\n",
        "0 & -1 & 2 \\\\\n",
        "-3 & 2 & 3\n",
        "\\end{bmatrix}\n",
        "\\end{equation*}\n",
        "\n",
        "###(a) Encontre a expressão algébrica de $p_A(x)$;\n",
        "\n",
        "###(b) Encontre os autovalores $\\lambda_1$, $\\lambda_2$ e $\\lambda_3$ de $A$.\n",
        "\n"
      ],
      "metadata": {
        "id": "_zyJ6mwe82t3"
      }
    },
    {
      "cell_type": "code",
      "source": [],
      "metadata": {
        "id": "44_j_6O8_Ftw"
      },
      "execution_count": null,
      "outputs": []
    },
    {
      "cell_type": "markdown",
      "source": [
        "### 13) Os engenheiros mecânicos, da mesma forma que a maioria dos outros engenheiros, utilizam a termodinâmica frequentemente nos seus trabalhos. O seguinte polinômio pode ser usado para relacionar o calor específico do ar seco à pressão nula, $c_p \\ kJ/(kg \\ K)$, à temperatura ($K$):\n",
        "$$c_p = 0,99403 + 1,671 \\times 10^{-4} T + 9,7215 \\times 10^{-8} T^2 -9,5838 \\times 10^{-11} T^3 + 1,9520 \\times 10^{-14} T^4$$\n",
        "\n",
        "### Faça um gráfico de $c_p$ versus $T$ em uma faixa de $0$ a $1200 \\ K$ e, então, use o método da bisseção para determinar a temperatura que corresponde a um calor específico de $1,1 \\ kJ/(kg \\ K)$."
      ],
      "metadata": {
        "id": "14oT5_JDQ-eT"
      }
    },
    {
      "cell_type": "code",
      "source": [],
      "metadata": {
        "id": "-GITCbyTVkZP"
      },
      "execution_count": null,
      "outputs": []
    },
    {
      "cell_type": "markdown",
      "source": [
        "### 14) Use o método de Newton-Rapson para encontrar a raiz de $$f(x) = e^{-0,5x}(4-x)-2$$ \n",
        "\n",
        "### Empregue aproximações iniciais de \n",
        "  (a) $x_0 = 2$,\n",
        "\n",
        "  (b) $x_0 = 6$ e\n",
        "  \n",
        "  (c) $x_0 = 8$.\n",
        "### Explique os seus resultados."
      ],
      "metadata": {
        "id": "cQdZ89elXF-_"
      }
    },
    {
      "cell_type": "code",
      "source": [],
      "metadata": {
        "id": "3TF5xO_1m5K_"
      },
      "execution_count": null,
      "outputs": []
    }
  ]
}