{
  "nbformat": 4,
  "nbformat_minor": 0,
  "metadata": {
    "colab": {
      "provenance": [],
      "collapsed_sections": [],
      "authorship_tag": "ABX9TyNGeJ0PjpcYn4eMEnmHmR82",
      "include_colab_link": true
    },
    "kernelspec": {
      "name": "python3",
      "display_name": "Python 3"
    },
    "language_info": {
      "name": "python"
    }
  },
  "cells": [
    {
      "cell_type": "markdown",
      "metadata": {
        "id": "view-in-github",
        "colab_type": "text"
      },
      "source": [
        "<a href=\"https://colab.research.google.com/github/JFGoes/PCT30038--CalculoNumerico/blob/master/MetodoSecante.ipynb\" target=\"_parent\"><img src=\"https://colab.research.google.com/assets/colab-badge.svg\" alt=\"Open In Colab\"/></a>"
      ]
    },
    {
      "cell_type": "markdown",
      "source": [
        "# Método da Secante"
      ],
      "metadata": {
        "id": "JgWVjoDjv08Z"
      }
    },
    {
      "cell_type": "code",
      "execution_count": null,
      "metadata": {
        "id": "cHgcS3-kt6Ak"
      },
      "outputs": [],
      "source": [
        "from sympy.plotting import *\n",
        "import sympy as sp\n",
        "from math import log, ceil\n",
        "import matplotlib.pyplot as plt"
      ]
    },
    {
      "cell_type": "code",
      "source": [
        "x = sp.Symbol('x')#Define uma variável"
      ],
      "metadata": {
        "id": "ehKprcrvuE3m"
      },
      "execution_count": null,
      "outputs": []
    },
    {
      "cell_type": "code",
      "source": [
        "#funcao = x**4 - 2 * x**3 - 4 * x**2+ 4*x + 4\n",
        "funcao = x**3 - 9*x + 3"
      ],
      "metadata": {
        "id": "_ObPlqpoua5S"
      },
      "execution_count": null,
      "outputs": []
    },
    {
      "cell_type": "code",
      "source": [
        "sp.diff(funcao, x)"
      ],
      "metadata": {
        "colab": {
          "base_uri": "https://localhost:8080/",
          "height": 38
        },
        "id": "ugNTh9eXGHpA",
        "outputId": "63a16da2-9333-4379-82d8-928a0e023baa"
      },
      "execution_count": null,
      "outputs": [
        {
          "output_type": "execute_result",
          "data": {
            "text/plain": [
              "3*x**2 - 9"
            ],
            "text/latex": "$\\displaystyle 3 x^{2} - 9$"
          },
          "metadata": {},
          "execution_count": 9
        }
      ]
    },
    {
      "cell_type": "code",
      "source": [
        "plot(funcao,(x,-2,2))"
      ],
      "metadata": {
        "colab": {
          "base_uri": "https://localhost:8080/",
          "height": 315
        },
        "id": "PrQndcJtuwAv",
        "outputId": "e3ddf655-4ff3-4c92-b72b-3393f19077a1"
      },
      "execution_count": null,
      "outputs": [
        {
          "output_type": "display_data",
          "data": {
            "text/plain": [
              "<Figure size 432x288 with 1 Axes>"
            ],
            "image/png": "[encoded data removed]"
          },
          "metadata": {
            "needs_background": "light"
          }
        },
        {
          "output_type": "execute_result",
          "data": {
            "text/plain": [
              "<sympy.plotting.plot.Plot at 0x7f95091a53d0>"
            ]
          },
          "metadata": {},
          "execution_count": 10
        }
      ]
    },
    {
      "cell_type": "markdown",
      "source": [
        "Definição da função para obter as raizes, $f(x) = 0$:"
      ],
      "metadata": {
        "id": "BTrLtst7ws3k"
      }
    },
    {
      "cell_type": "code",
      "source": [
        "def f(x):\n",
        "  #return x**4 - 2 * x**3 - 4 * x**2+ 4*x + 4\n",
        "  return (x**3 - 9*x + 3) #Resolvida em sala de aula\n",
        "  #return x**3 - x - 1"
      ],
      "metadata": {
        "id": "-SDU3-8lu2im"
      },
      "execution_count": null,
      "outputs": []
    },
    {
      "cell_type": "markdown",
      "source": [
        "Método da Secante implementado a partir do algoritmo do livro cálculo numérico - Rugiere"
      ],
      "metadata": {
        "id": "C7h2GI90w1YA"
      }
    },
    {
      "cell_type": "code",
      "source": [
        "lerro =[] # lista para plot do erro\n",
        "\n",
        "def secante(x0,x1,tol,iter_max):\n",
        "  iter = 0\n",
        "  \n",
        "  if abs(f(x0)) < tol:\n",
        "     return (f'A raiz esperar é: {x0:.6f}')\n",
        "\n",
        "  erro = abs((x1-x0)) # calculo do erro: | x1-x0| < tol\n",
        "  lerro.append(erro) # adicionar valores do erro\n",
        "\n",
        "  if abs(f(x1)) < tol or erro < tol:\n",
        "     return (f'A raiz esperar é: {x1:.6f}')\n",
        "\n",
        "  print(f'{\"iter\":^5}| {\"x2\":^9}| {\"x1\":^9}| {\"f(x2)\":^8} | {\"|x2-x1|\":^9} ')\n",
        "  print('-----|----------|----------|----------|----------|-----------')\n",
        "  \n",
        "  while iter < iter_max:\n",
        "    x2 = x1 - f(x1)*(x1 - x0)/(f(x1) - f(x0))\n",
        "\n",
        "    print(f'{iter:^5}| {x2:^9.6f}| {x1:^9.6f}| {abs(f(x2)):^8.4f} | {abs(x2-x1):^2.4E}')\n",
        "    \n",
        "    erro = abs((x2-x1)) # calculo do erro: | x1-x0| < tol\n",
        "\n",
        "    if abs(f(x2)) < tol or erro < tol:\n",
        "      lerro.append(erro)\n",
        "      return (f'A raiz esperar é: {x2:.6f}')\n",
        "    else:\n",
        "      x0 = x1\n",
        "      x1 = x2\n",
        "  \n",
        "    iter+=1\n",
        "\n",
        "    lerro.append(erro)\n",
        "  \n",
        "  return 'O método não convergiu após '+ str(iter_max) + 'iterações'\n"
      ],
      "metadata": {
        "id": "HYVfJuN2vB50"
      },
      "execution_count": null,
      "outputs": []
    },
    {
      "cell_type": "code",
      "source": [
        "\n",
        "#Raiz no intervalo [0,0.5]\n",
        "x0 = 0.\n",
        "x1 = 1.\n",
        "err = 5*10**(-6)\n",
        "secante(x0,x1,err,100)\n",
        "\n",
        "plt.plot(lerro,'r')"
      ],
      "metadata": {
        "colab": {
          "base_uri": "https://localhost:8080/",
          "height": 388
        },
        "id": "mDoiltqvwwQA",
        "outputId": "88bdb25e-7da1-46e2-8c87-d1e0fcb72269"
      },
      "execution_count": null,
      "outputs": [
        {
          "output_type": "stream",
          "name": "stdout",
          "text": [
            "iter |    x2    |    x1    |  f(x2)   |  |x2-x1|  \n",
            "-----|----------|----------|----------|----------|-----------\n",
            "  0  | 0.375000 | 1.000000 |  0.3223  | 6.2500E-01\n",
            "  1  | 0.331942 | 0.375000 |  0.0491  | 4.3058E-02\n",
            "  2  | 0.337635 | 0.331942 |  0.0002  | 5.6931E-03\n",
            "  3  | 0.337609 | 0.337635 |  0.0000  | 2.5648E-05\n"
          ]
        },
        {
          "output_type": "execute_result",
          "data": {
            "text/plain": [
              "[<matplotlib.lines.Line2D at 0x7f497762bad0>]"
            ]
          },
          "metadata": {},
          "execution_count": 11
        },
        {
          "output_type": "display_data",
          "data": {
            "text/plain": [
              "<Figure size 432x288 with 1 Axes>"
            ],
            "image/png": "[encoded data removed]"
          },
          "metadata": {
            "needs_background": "light"
          }
        }
      ]
    },
    {
      "cell_type": "markdown",
      "source": [
        "Outro teste:"
      ],
      "metadata": {
        "id": "olmof3QzHkcL"
      }
    },
    {
      "cell_type": "code",
      "source": [
        "#Raiz no intervalo [0,0.5]\n",
        "x0 = 0.\n",
        "x1 = 0.5\n",
        "err = 5*10**(-6)\n",
        "secante(x0,x1,err,100)\n",
        "\n",
        "plt.plot(lerro,'r')"
      ],
      "metadata": {
        "colab": {
          "base_uri": "https://localhost:8080/",
          "height": 775
        },
        "id": "GjQWSfesHjuq",
        "outputId": "5846825b-f2e8-4e95-e568-f50bbdf48f88"
      },
      "execution_count": null,
      "outputs": [
        {
          "output_type": "stream",
          "name": "stdout",
          "text": [
            "iter |    x2    |    x1    |  f(x2)   |  |x2-x1|  \n",
            "-----|----------|----------|----------|----------|-----------\n",
            "  0  | -1.333333| 0.500000 |  2.0370  | 1.8333E+00\n",
            "  1  | 4.307692 | -1.333333| 74.6268  | 5.6410E+00\n",
            "  2  | -1.183445| 4.307692 |  1.4740  | 5.4911E+00\n",
            "  3  | -1.077086| -1.183445|  1.1725  | 1.0636E-01\n",
            "  4  | -0.663569| -1.077086|  0.6286  | 4.1352E-01\n",
            "  5  | -0.185591| -0.663569|  0.8208  | 4.7798E-01\n",
            "  6  | -2.226982| -0.185591|  9.8176  | 2.0414E+00\n",
            "  7  | 0.000650 | -2.226982|  1.0006  | 2.2276E+00\n",
            "  8  | 0.253467 | 0.000650 |  1.2372  | 2.5282E-01\n",
            "  9  | -1.068889| 0.253467 |  1.1523  | 1.3224E+00\n",
            " 10  | -19.029964| -1.068889| 6873.4724 | 1.7961E+01\n",
            " 11  | -1.065878| -19.029964|  1.1451  | 1.7964E+01\n",
            " 12  | -1.062885| -1.065878|  1.1379  | 2.9932E-03\n",
            " 13  | -0.588515| -1.062885|  0.6153  | 4.7437E-01\n",
            " 14  | -0.029947| -0.588515|  0.9701  | 5.5857E-01\n",
            " 15  | -1.557322| -0.029947|  3.2196  | 1.5274E+00\n",
            " 16  | 0.628722 | -1.557322|  1.3802  | 2.1860E+00\n",
            " 17  | 2.269034 | 0.628722 |  8.4131  | 1.6403E+00\n",
            " 18  | 0.859895 | 2.269034 |  1.2241  | 1.4091E+00\n",
            " 19  | 1.038877 | 0.859895 |  0.9177  | 1.7898E-01\n",
            " 20  | 1.574886 | 1.038877 |  1.3313  | 5.3601E-01\n",
            " 21  | 1.257593 | 1.574886 |  0.2687  | 3.1729E-01\n",
            " 22  | 1.310873 | 1.257593 |  0.0583  | 5.3281E-02\n",
            " 23  | 1.325634 | 1.310873 |  0.0039  | 1.4761E-02\n",
            " 24  | 1.324706 | 1.325634 |  0.0001  | 9.2824E-04\n",
            " 25  | 1.324718 | 1.324706 |  0.0000  | 1.1917E-05\n"
          ]
        },
        {
          "output_type": "execute_result",
          "data": {
            "text/plain": [
              "[<matplotlib.lines.Line2D at 0x7f9506636810>]"
            ]
          },
          "metadata": {},
          "execution_count": 19
        },
        {
          "output_type": "display_data",
          "data": {
            "text/plain": [
              "<Figure size 432x288 with 1 Axes>"
            ],
            "image/png": "[encoded data removed]"
          },
          "metadata": {
            "needs_background": "light"
          }
        }
      ]
    }
  ]
}