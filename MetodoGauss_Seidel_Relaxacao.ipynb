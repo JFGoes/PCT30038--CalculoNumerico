{
  "nbformat": 4,
  "nbformat_minor": 0,
  "metadata": {
    "colab": {
      "provenance": [],
      "mount_file_id": "1WgVE6NapFvTz2UxTXEx_aAq6s5KGBmij",
      "authorship_tag": "ABX9TyNytZRRcsrEcvXQ5uv56h1r",
      "include_colab_link": true
    },
    "kernelspec": {
      "name": "python3",
      "display_name": "Python 3"
    },
    "language_info": {
      "name": "python"
    }
  },
  "cells": [
    {
      "cell_type": "markdown",
      "metadata": {
        "id": "view-in-github",
        "colab_type": "text"
      },
      "source": [
        "<a href=\"https://colab.research.google.com/github/JFGoes/PCT30038--CalculoNumerico/blob/master/MetodoGauss_Seidel_Relaxacao.ipynb\" target=\"_parent\"><img src=\"https://colab.research.google.com/assets/colab-badge.svg\" alt=\"Open In Colab\"/></a>"
      ]
    },
    {
      "cell_type": "code",
      "execution_count": 58,
      "metadata": {
        "id": "dGWnDA21jB41"
      },
      "outputs": [],
      "source": [
        "\"\"\"\n",
        "Método de Gauss-Seidel.ipynb\n",
        "Autor: Prof. Josecley Fialho Góes\n",
        "Data da última alteração: 01/12/2022\n",
        "\"\"\"\n",
        "\n",
        "import numpy as np\n",
        "import matplotlib.pyplot as plt\n"
      ]
    },
    {
      "cell_type": "code",
      "source": [
        "def GSeidel(A,b,x,imax,es,rlambda):\n",
        "  \"\"\"\n",
        "  Método de Gaus-Seidel com relaxamento: xi_novo = λxi_novo + (1 − λ)xi_velho\n",
        "  Implementado a partir do livro de Métodos Numéricos para engenharia, pag 255.\n",
        "  autores: Steven C. Chapra e Raymond P. Canale\n",
        "  Edição: 5ª\n",
        "\n",
        "  Variáveis de entrada:\n",
        "  A           -- Matriz de coeficientes\n",
        "  b           -- Vetor Independente\n",
        "  x           -- Vetor chute inicial\n",
        "\n",
        "  variáveis de Saída:\n",
        "  sol         -- Vetor solução\n",
        "  solx        -- Vetor solução por iteração\n",
        "  iter        -- Qtde de iterações\n",
        "  \"\"\"\n",
        "  # Melhorar a precisão de float para double\n",
        "  A = A.astype('double') \n",
        "  b = b.astype('double')  \n",
        "  x = x.astype('double') \n",
        "\n",
        "  # Para o plot das raizes x iterações\n",
        "  x1 = []\n",
        "  x2 = []\n",
        "  x3 = []\n",
        "  liters=[]\n",
        "  solx = [x1,x2,x3,liters]\n",
        "  x1.append(x[0])\n",
        "  x2.append(x[1])\n",
        "  x3.append(x[2])\n",
        "\n",
        "  # retorna a quantidade de variáveis\n",
        "  n=np.shape(A)[0]  \n",
        " \n",
        "  for i in range(n):\n",
        "    dummy = A[i][i]\n",
        "    for j in range(n):\n",
        "      A[i][j]= A[i][j]/dummy\n",
        "\n",
        "    b[i]= b[i]/dummy\n",
        "  \n",
        "  for i in range(n):\n",
        "    soma = b[i]\n",
        "    for j in np.concatenate((np.arange(0,i),np.arange(i+1,n))):\n",
        "      soma = soma - A[i][j]*x[j]\n",
        "    x[i] = soma\n",
        "    \n",
        "  iter = 0\n",
        "  liters.append(iter)\n",
        "  while True:\n",
        "    sentinela = 1\n",
        "    for i in range(n):\n",
        "      old = x[i]\n",
        "      soma = b[i]\n",
        "      for j in np.concatenate((np.arange(0,i),np.arange(i+1,n))):\n",
        "        soma = soma - A[i][j]*x[j]\n",
        "      x[i] = rlambda * soma  + (1. - rlambda) * old\n",
        "      \n",
        "      if sentinela == 1 and x[i] != 0.:\n",
        "        ea = np.fabs((x[i] - old)/x[i])*100\n",
        "        \n",
        "        if ea > es:\n",
        "          sentinela = 0\n",
        "    iter = iter + 1\n",
        "    x1.append(x[0])\n",
        "    x2.append(x[1])\n",
        "    x3.append(x[2])\n",
        "    liters.append(iter)\n",
        "    if sentinela == 1 or iter >= imax:\n",
        "      print(f'Iterações = {iter}')\n",
        "      print(f' x1 = {sol[0]:,.3f}\\n x2 = {sol[1]:,.3f}\\n x3 = {sol[2]:,.3f}')\n",
        "\n",
        "      plt.plot(solx[3],solx[0],'r',label='x1')\n",
        "      plt.plot(solx[3],solx[1],'b',label='x2')\n",
        "      plt.plot(solx[3],solx[2],'g',label='x3')\n",
        "      plt.xlabel('Iter')\n",
        "      plt.ylabel('sol')\n",
        "      plt.legend()\n",
        "      plt.grid()\n",
        "      return (x ,solx, iter)"
      ],
      "metadata": {
        "id": "MHmfCof8jE6G"
      },
      "execution_count": 107,
      "outputs": []
    },
    {
      "cell_type": "markdown",
      "source": [],
      "metadata": {
        "id": "jXmT2S7dSi8C"
      }
    },
    {
      "cell_type": "code",
      "source": [
        "A = np.array([[12.,-3.,1.],[-1.,6.,-1.],[1.,6.,9.]])\n",
        "b = np.array([50.,3.,40.])\n",
        "x = np.array([1.,1.,1.])\n",
        "rlambda = 0.95\n",
        "es = 0.05\n",
        "sol,solx,iter = GSeidel(A,b,x,100,es,rlambda)\n"
      ],
      "metadata": {
        "id": "ZKLjBS3djLcg",
        "colab": {
          "base_uri": "https://localhost:8080/",
          "height": 353
        },
        "outputId": "094cfad1-128f-4df6-ce86-ae41c570956d"
      },
      "execution_count": 108,
      "outputs": [
        {
          "output_type": "stream",
          "name": "stdout",
          "text": [
            "Iterações = 4\n",
            " x1 = 4.355\n",
            " x2 = 1.697\n",
            " x3 = 2.829\n"
          ]
        },
        {
          "output_type": "display_data",
          "data": {
            "text/plain": [
              "<Figure size 432x288 with 1 Axes>"
            ],
            "image/png": "[encoded data removed]"
          },
          "metadata": {
            "needs_background": "light"
          }
        }
      ]
    }
  ]
}