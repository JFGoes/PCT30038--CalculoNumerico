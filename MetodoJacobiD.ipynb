{
  "nbformat": 4,
  "nbformat_minor": 0,
  "metadata": {
    "colab": {
      "provenance": [],
      "authorship_tag": "ABX9TyPSh1h/H1kZF+IJJDs3kGeX",
      "include_colab_link": true
    },
    "kernelspec": {
      "name": "python3",
      "display_name": "Python 3"
    },
    "language_info": {
      "name": "python"
    }
  },
  "cells": [
    {
      "cell_type": "markdown",
      "metadata": {
        "id": "view-in-github",
        "colab_type": "text"
      },
      "source": [
        "<a href=\"https://colab.research.google.com/github/JFGoes/PCT30038--CalculoNumerico/blob/master/MetodoJacobiD.ipynb\" target=\"_parent\"><img src=\"https://colab.research.google.com/assets/colab-badge.svg\" alt=\"Open In Colab\"/></a>"
      ]
    },
    {
      "cell_type": "markdown",
      "source": [
        "# # Metodo de Gauss-Jacobi direto para solucao iterativa de Ax = b"
      ],
      "metadata": {
        "id": "yKQzOby8q2B7"
      }
    },
    {
      "cell_type": "markdown",
      "source": [
        "O método de Jacobi pode ser obtido a partir do sistema linear \n",
        "\n",
        "$$\\begin{cases}\n",
        "a_{11}x_1 + a_{12}x_2 +a_{13}x_3 \\cdots + a_{1n}x_n = b_1 \\\\\n",
        "a_{21}x_1 + a_{22}x_2 +a_{23}x_3 \\cdots + a_{2n}x_n = b_2\\\\\n",
        "\\quad\\vdots \\qquad\\qquad \\qquad \\ddots  \\qquad\\qquad\\quad\\vdots\\\\\n",
        "a_{n1}x_1 + a_{n2}x_2 +a_{n3}x_3 \\cdots + a_{nn}x_n = b_n\\\\\n",
        "\\end{cases}$$\n",
        "\n",
        "Isolando o elemento da primeira equação temos \n",
        "$$x_1^{k+1} = \\left(\\dfrac{b_1 - a_{12}x_2^{k} +a_{13}x_3^{k} \\cdots + a_{1n}x_n^{k}}{a_{11}}\\right)$$\n",
        "Note que utilizaremos os elementos $x_i^{k}$ da iteração $k$ (a direita da equação) para estimar o elemento $x_1$ da próxima iteração.\n",
        "\n",
        "Da mesma forma, isolando o elemento $x_i$ de cada equação $i$, para todo$i = 2, ⋯, n$ podemos construir a iteração \n",
        "\n",
        "$$\\begin{cases}\n",
        "x_1^{k+1} = \\left(\\dfrac{b_1 - a_{12}x_2^{k} +a_{13}x_3^{k} \\cdots + a_{1n}x_n^{k}}{a_{11}}\\right)\\\\\n",
        "x_2^{k+1} = \\left(\\dfrac{b_2 - a_{11}x_1^{k} +a_{13}x_3^{k} \\cdots + a_{1n}x_n^{k}}{a_{22}}\\right)\\\\\n",
        "\\quad\\vdots \\qquad \\vdots \\qquad\\quad \\qquad\\qquad\\quad\\vdots\\\\\n",
        "x_n^{k+1} = \\left(\\dfrac{b_n - a_{11}x_1^{k} +a_{13}x_3^{k} \\cdots + a_{(n-1)(n-1)}x_{n-1}^{k}}{a_{nn}}\\right)\n",
        "\\end{cases}$$\n",
        "\n",
        "Em notação mais compacta, o método de Jacobi consiste na iteração \n",
        "\n",
        "$$\\begin{cases}\n",
        "x^{(1)} = \\mbox{aproximação inicial}\\\\\n",
        "x_i^{k+1} = \\dfrac{b_i - \\sum_{j=1\\\\j\\neq i} a_{ij} x_j^{(k)}}{a_{ii}}\n",
        "\\end{cases}$$"
      ],
      "metadata": {
        "id": "Mo578TVzxA2J"
      }
    },
    {
      "cell_type": "markdown",
      "source": [],
      "metadata": {
        "id": "faoGZIXY4NN8"
      }
    },
    {
      "cell_type": "markdown",
      "source": [
        "\n",
        "Regra de parada com $max| x_{new} - x_{old} |$\n",
        "```\n",
        "INPUT :\n",
        "\n",
        " A - matriz de coeficientes\n",
        "\n",
        " b - vetor de constantes\n",
        "\n",
        " x0 - chute inicial\n",
        "\n",
        " tol - diferenca maxima a ser tolerada\n",
        "\n",
        " maxiter - numero maximo de iteracoes\n",
        "OUTPUT :\n",
        "\n",
        " x - solucao aproximada na iteracao final\n",
        "\n",
        " err - erro estimado na iteracao final\n",
        "\n",
        " niter - numero de iteracoes executadas\n",
        "```"
      ],
      "metadata": {
        "id": "NVEAN91Iq79f"
      }
    },
    {
      "cell_type": "code",
      "source": [
        "import numpy as np  \n",
        "from numpy import linalg"
      ],
      "metadata": {
        "id": "0l7BCqX7rCJK"
      },
      "execution_count": 1,
      "outputs": []
    },
    {
      "cell_type": "code",
      "source": [
        "def jacobi(A,b,x0,tol,maxiter):  \n",
        "    #preliminares  \n",
        "    A = A.astype('double')  # Melhorar a precisão de float para double\n",
        "    b = b.astype('double')  \n",
        "    x0 = x0.astype('double')  \n",
        " \n",
        "    n=np.shape(A)[0]  # retorna a quantidade de variáveis\n",
        "    x = np.zeros(n)  # cria um vetor para salvar a solução\n",
        "    it = 0  \n",
        "    #iteracoes  \n",
        "    while (it < maxiter):  \n",
        "        it = it+1  \n",
        "        #iteracao de Jacobi  \n",
        "        for i in np.arange(n):  \n",
        "            x[i] = b[i]  \n",
        "            for j in np.concatenate((np.arange(0,i),np.arange(i+1,n))):  \n",
        "                x[i] -= A[i,j]*x0[j]  #somatorio de A_ij * x0_j\n",
        "            x[i] /= A[i,i]  #divisão  de bi menos somatório de A_ij * x0_j por a_ii\n",
        "        #tolerancia  \n",
        "        if (np.linalg.norm(x-x0,np.inf) < tol):  \n",
        "            return x  \n",
        "        #prepara nova iteracao  \n",
        "        x0 = np.copy(x)  \n",
        "    raise NameError('num. max. de iteracoes excedido.') "
      ],
      "metadata": {
        "id": "p_f9UipZq1Wa"
      },
      "execution_count": 4,
      "outputs": []
    },
    {
      "cell_type": "markdown",
      "source": [
        "### 1 - Exemplo:\n",
        "Considere o seguinte sistema:\n",
        "$$\\begin{cases}\n",
        "-3x_1 + x_2 +x_3 = 2 \\\\\n",
        "2x_1 + 5x_2 +x_3 = 5 \\\\\n",
        "2x_1 + 3x_2 +7x_3 = -17\n",
        "\\end{cases}$$\n",
        "\n",
        "Usando o método de Jacobi com aproximação inicial $x^{(1)} = (1,1,-1)$ , obtemos os seguintes resultados:"
      ],
      "metadata": {
        "id": "MGb4YE-N425R"
      }
    },
    {
      "cell_type": "code",
      "execution_count": 5,
      "metadata": {
        "colab": {
          "base_uri": "https://localhost:8080/"
        },
        "id": "sP_SzLNpqvq0",
        "outputId": "029265cb-32bd-43a5-cbd5-6f5abef7f169"
      },
      "outputs": [
        {
          "output_type": "stream",
          "name": "stdout",
          "text": [
            "Solução: ['-1.0000', '2.0000', '-3.0000']\n"
          ]
        }
      ],
      "source": [
        "A = np.array([[-3.0,1.0,1.0],[2.0, 5.0, 1.0],[2.0,3.0,7.0]])\n",
        "b = np.array([2.0,5.0,-17.0])\n",
        "x0 = np.array([1.0,1.0,-1.0])\n",
        "\n",
        "x = jacobi(A,b,x0,0.0001,50)\n",
        "# [\"%.2f\"%item for item in your_list]\n",
        "print(f'Solução: {[\"%.4f\"% xi for xi in x]}')"
      ]
    },
    {
      "cell_type": "code",
      "source": [],
      "metadata": {
        "id": "Cb1F6Eaxsr-I"
      },
      "execution_count": null,
      "outputs": []
    }
  ]
}