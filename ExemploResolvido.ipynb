{
  "nbformat": 4,
  "nbformat_minor": 0,
  "metadata": {
    "colab": {
      "provenance": [],
      "mount_file_id": "10MV5Yky5bRKiw0UWpAhqjClGwBud78P-",
      "authorship_tag": "ABX9TyM+H3nxXy8Gekl0DsLrDbSa",
      "include_colab_link": true
    },
    "kernelspec": {
      "name": "python3",
      "display_name": "Python 3"
    },
    "language_info": {
      "name": "python"
    }
  },
  "cells": [
    {
      "cell_type": "markdown",
      "metadata": {
        "id": "view-in-github",
        "colab_type": "text"
      },
      "source": [
        "<a href=\"https://colab.research.google.com/github/JFGoes/PCT30038--CalculoNumerico/blob/master/ExemploResolvido.ipynb\" target=\"_parent\"><img src=\"https://colab.research.google.com/assets/colab-badge.svg\" alt=\"Open In Colab\"/></a>"
      ]
    },
    {
      "cell_type": "markdown",
      "source": [
        "### Exemplo resolvido"
      ],
      "metadata": {
        "id": "KtQvt09nn4E4"
      }
    },
    {
      "cell_type": "code",
      "source": [
        "import sys\n",
        "sys.path.append('/content/drive/MyDrive/CalculoNumerico')"
      ],
      "metadata": {
        "id": "9DA__ZkxmMmP"
      },
      "execution_count": 23,
      "outputs": []
    },
    {
      "cell_type": "code",
      "source": [
        "from MetodosZeroFuncao import Bisseccao,PontoFixo,NewtonRaphson,Secante\n"
      ],
      "metadata": {
        "id": "i5Vee0mBoeTM"
      },
      "execution_count": 21,
      "outputs": []
    },
    {
      "cell_type": "markdown",
      "source": [
        "## Para plotar os gráficos quando necessário"
      ],
      "metadata": {
        "id": "pTC_AK5-CR-e"
      }
    },
    {
      "cell_type": "code",
      "source": [
        "from sympy.plotting import *\n",
        "import sympy as sp"
      ],
      "metadata": {
        "id": "UOrKGfWvCP82"
      },
      "execution_count": 29,
      "outputs": []
    },
    {
      "cell_type": "code",
      "source": [
        "x = sp.Symbol('x')#Define uma variável"
      ],
      "metadata": {
        "id": "dJb23h42COxc"
      },
      "execution_count": 28,
      "outputs": []
    },
    {
      "cell_type": "markdown",
      "source": [
        "### 3) Aplique o Método da Bissecção para encontrar uma aproximação para a raiz negativa da função $f(x) = x^3 - 5x + 0.1$. Considere o critério de parada dado por $\\left|\\dfrac{b-a}{a}\\right|< tol$ com $tol = 10^{-2}$. Faça primeiro o isolamento da raiz no intervalo."
      ],
      "metadata": {
        "id": "kH5V1VwCo_em"
      }
    },
    {
      "cell_type": "code",
      "source": [
        "funcao = x**3 - 5*x + 0.1"
      ],
      "metadata": {
        "id": "hldi-Gbx9k4V"
      },
      "execution_count": 30,
      "outputs": []
    },
    {
      "cell_type": "code",
      "source": [
        "plot(funcao,(x,-2.5,2.5))"
      ],
      "metadata": {
        "colab": {
          "base_uri": "https://localhost:8080/",
          "height": 315
        },
        "id": "2wf6lb_h9nqG",
        "outputId": "6d2e0714-f383-4caf-e51d-16fa49c8e49b"
      },
      "execution_count": 31,
      "outputs": [
        {
          "output_type": "display_data",
          "data": {
            "text/plain": [
              "<Figure size 432x288 with 1 Axes>"
            ],
            "image/png": "[encoded data removed]"
          },
          "metadata": {
            "needs_background": "light"
          }
        },
        {
          "output_type": "execute_result",
          "data": {
            "text/plain": [
              "<sympy.plotting.plot.Plot at 0x7f1391483090>"
            ]
          },
          "metadata": {},
          "execution_count": 31
        }
      ]
    },
    {
      "cell_type": "code",
      "source": [
        "f = lambda x: x**3 - 5*x + 0.1\n",
        "a = 2.0\n",
        "b = 2.5\n",
        "erro = 0.01\n",
        "#erro = 0.00001\n",
        "sol,lerro = Bisseccao(f,a,b,erro)"
      ],
      "metadata": {
        "id": "9nWoRrS-n0f2",
        "colab": {
          "base_uri": "https://localhost:8080/",
          "height": 471
        },
        "outputId": "02112acc-b825-4b04-88f4-a832dafde473"
      },
      "execution_count": 32,
      "outputs": [
        {
          "output_type": "stream",
          "name": "stdout",
          "text": [
            "iter |     b    |     a    |   f(x)   |   |b-a|   \n",
            "-----|----------|----------|----------|----------|-----------\n",
            "  0  | 2.000000 | 2.500000 |  0.2406  | 5.0000E-01\n",
            "  1  | 2.000000 | 2.250000 | -0.9293  | 2.5000E-01\n",
            "  2  | 2.125000 | 2.250000 | -0.3700  | 1.2500E-01\n",
            "  3  | 2.187500 | 2.250000 | -0.0712  | 6.2500E-02\n",
            "  4  | 2.218750 | 2.250000 |  0.0831  | 3.1250E-02\n",
            "  5  | 2.218750 | 2.234375 |  0.0056  | 1.5625E-02\n",
            "  6  | 2.218750 | 2.226562 | -0.0329  | 7.8125E-03\n",
            "A solução é: 2.222656\n"
          ]
        },
        {
          "output_type": "display_data",
          "data": {
            "text/plain": [
              "<Figure size 432x288 with 1 Axes>"
            ],
            "image/png": "[encoded data removed]"
          },
          "metadata": {
            "needs_background": "light"
          }
        }
      ]
    },
    {
      "cell_type": "markdown",
      "source": [
        "Conforme pode-se observar, o intervalo escolhido foi $[2.0,2.5]$, sendo $a=2.0$ e $b = 2.5$. Nesse intervalo, o método da Bissecção convergiu com 6 iterações, para um erro de $10^{-2}$. O valor do zero da função obtido foi $x = 2.222656$ resultou em $f(x) = -0.0329$, satisfazendo a tolerância desejada, mas não o zero da função esperado. Para atinga o zero da função, é necessário uma tolerância menor, $10^{-5}$, convergindo com 16 iterações.\n",
        "Além disso, pode-se observar o gráfico do erro com uma convergência suave a cada iteração, ao se aproximar do erro desejado. Portanto, quanto melhor a precisão, maior a quantidade de iterações e como consequência, eleva o custo computacional."
      ],
      "metadata": {
        "id": "OVEYpqvP-KOk"
      }
    },
    {
      "cell_type": "code",
      "execution_count": null,
      "metadata": {
        "id": "0lx7tYRXl5zS"
      },
      "outputs": [],
      "source": []
    }
  ]
}